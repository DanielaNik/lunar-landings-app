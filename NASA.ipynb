{
  "nbformat": 4,
  "nbformat_minor": 0,
  "metadata": {
    "colab": {
      "provenance": [],
      "authorship_tag": "ABX9TyPPQdGmgQVaGz1NNDpixwed",
      "include_colab_link": true
    },
    "kernelspec": {
      "name": "python3",
      "display_name": "Python 3"
    },
    "language_info": {
      "name": "python"
    }
  },
  "cells": [
    {
      "cell_type": "markdown",
      "metadata": {
        "id": "view-in-github",
        "colab_type": "text"
      },
      "source": [
        "<a href=\"https://colab.research.google.com/github/DanielaNik/lunar-landings-app/blob/master/NASA.ipynb\" target=\"_parent\"><img src=\"https://colab.research.google.com/assets/colab-badge.svg\" alt=\"Open In Colab\"/></a>"
      ]
    },
    {
      "cell_type": "code",
      "execution_count": null,
      "metadata": {
        "id": "NStiv0-aADoq"
      },
      "outputs": [],
      "source": [
        "#start here\n",
        "#shift+enter in this box will run the code that's here and open a new code-box below\n",
        "#import ....\n",
        "\n",
        "#Note: Imports for the modules that we need\n",
        "import numpy as np\n",
        "import pandas as pd\n",
        "\n",
        "#Note: Requests is a simple, yet elegant, HTTP library.\n",
        "#Resource: https://pypi.org/project/requests/\n",
        "import requests\n",
        "\n",
        "#Note: Beautiful Soup is a library that makes it easy to scrape information from web pages.\n",
        "#Note: In the following resource you can find a way to select any part of a HTML content.\n",
        "#Resource: https://pypi.org/project/beautifulsoup4/\n",
        "from bs4 import BeautifulSoup\n",
        "\n",
        "#Note: IPython is a command shell for interactive computing in Python.\n",
        "#Note: IPython.display is a module for display tools in IPython.\n",
        "#Resource: https://ipython.readthedocs.io/en/stable/api/generated/IPython.display.html\n",
        "from IPython.display import HTML\n",
        "\n",
        "\n",
        "#Note: We can disable warnings for our requests.\n",
        "import warnings\n",
        "\n",
        "requests.packages.urllib3.disable_warnings()\n",
        "warnings.filterwarnings(\"ignore\")\n",
        "\n",
        "import re\n",
        "import json"
      ]
    },
    {
      "cell_type": "code",
      "source": [
        "#Web Scarping from NASA\n",
        "\n",
        "scraping_url = 'https://www.lroc.asu.edu/featured_sites/'"
      ],
      "metadata": {
        "id": "GkmViAPYAMAN"
      },
      "execution_count": null,
      "outputs": []
    },
    {
      "cell_type": "code",
      "source": [
        "#Response from site\n",
        "response = requests.get(scraping_url)\n",
        "response"
      ],
      "metadata": {
        "colab": {
          "base_uri": "https://localhost:8080/"
        },
        "id": "YHONmBpQAzID",
        "outputId": "058212e2-68e0-4c65-fdaf-1b1e9a0aa04a"
      },
      "execution_count": null,
      "outputs": [
        {
          "output_type": "execute_result",
          "data": {
            "text/plain": [
              "<Response [200]>"
            ]
          },
          "metadata": {},
          "execution_count": 101
        }
      ]
    },
    {
      "cell_type": "code",
      "source": [
        "#Parsing with BeautifulSoup\n",
        "\n",
        "raw_html = response.text\n",
        "html = BeautifulSoup(raw_html, \"html.parser\")\n",
        "type(html)"
      ],
      "metadata": {
        "colab": {
          "base_uri": "https://localhost:8080/"
        },
        "id": "btsdHMKkA4Mj",
        "outputId": "2b98e1b5-020d-409f-9ecb-920a9254f613"
      },
      "execution_count": null,
      "outputs": [
        {
          "output_type": "execute_result",
          "data": {
            "text/plain": [
              "bs4.BeautifulSoup"
            ]
          },
          "metadata": {},
          "execution_count": 102
        }
      ]
    },
    {
      "cell_type": "code",
      "source": [
        "#Save in Drive\n",
        "\n",
        "from google.colab import drive\n",
        "\n",
        "drive.mount('/content/drive')\n",
        "path = \"/content/drive/MyDrive/OpenData-Project\""
      ],
      "metadata": {
        "colab": {
          "base_uri": "https://localhost:8080/"
        },
        "id": "DrA7sFfQBBsO",
        "outputId": "b722a34e-1bcf-499a-8cd5-cf07c8b9658c"
      },
      "execution_count": null,
      "outputs": [
        {
          "output_type": "stream",
          "name": "stdout",
          "text": [
            "Drive already mounted at /content/drive; to attempt to forcibly remount, call drive.mount(\"/content/drive\", force_remount=True).\n"
          ]
        }
      ]
    },
    {
      "cell_type": "code",
      "source": [
        "html.select_one('.modal-header > h4').text"
      ],
      "metadata": {
        "colab": {
          "base_uri": "https://localhost:8080/",
          "height": 35
        },
        "id": "qL_lRGpOEicU",
        "outputId": "92a1be76-ef39-44ee-efe6-3cc8d37c0da1"
      },
      "execution_count": null,
      "outputs": [
        {
          "output_type": "execute_result",
          "data": {
            "text/plain": [
              "'GRAIL A'"
            ],
            "application/vnd.google.colaboratory.intrinsic+json": {
              "type": "string"
            }
          },
          "metadata": {},
          "execution_count": 104
        }
      ]
    },
    {
      "cell_type": "code",
      "source": [
        "def get_data(url, path):\n",
        "  response = requests.get(url)\n",
        "  html = BeautifulSoup(response.text, \"html.parser\")\n",
        "\n",
        "  shuttle_items = html.find_all('div', class_='modal-content')\n",
        "  lon_items = html.select('.lat-lon')\n",
        "\n",
        "  print(len(shuttle_items))\n",
        "  shuttles = {}\n",
        "\n",
        "  for i in range(0, len(shuttle_items)):\n",
        "    # item = {}\n",
        "\n",
        "    shuttle_name = shuttle_items[i].select_one('.modal-header > h4').text\n",
        "    # item['Name'] = shuttle_name\n",
        "\n",
        "    shuttle_longitude = lon_items[i].text\n",
        "    # item['Longitude'] = shuttle_longitude\n",
        "\n",
        "    shuttle_country = shuttle_items[i].select_one('.modal-body > p:nth-child(1)').text\n",
        "    # item['Country'] = shuttle_country\n",
        "\n",
        "    shuttle_description= shuttle_items[i].select_one('.modal-body > p:nth-child(2)').text\n",
        "    # item['Description'] = shuttle_description\n",
        "\n",
        "    item = {\n",
        "        'Name': shuttle_name,\n",
        "        'Longitude': shuttle_longitude,\n",
        "        'Country': shuttle_country,\n",
        "        'Description': shuttle_description\n",
        "    }\n",
        "\n",
        "    shuttles= json.dumps(item)\n",
        "\n",
        "\n",
        "  df = pd.DataFrame(shuttles)\n",
        "  # url_parts = url.split(\"/\")\n",
        "  # file_name = path + \"/results_\" + url_parts[3] + \".csv\"\n",
        "  df.to_json(r'/content/drive/MyDrive/OpenData-Project/Shuttles.json')\n",
        "\n",
        "  return df"
      ],
      "metadata": {
        "id": "M9VzojMzBEAs"
      },
      "execution_count": null,
      "outputs": []
    },
    {
      "cell_type": "code",
      "source": [
        "nasa_shuttles_url = \"https://www.lroc.asu.edu/featured_sites/\"\n",
        "nasa_data = get_data(nasa_shuttles_url,path)"
      ],
      "metadata": {
        "colab": {
          "base_uri": "https://localhost:8080/",
          "height": 355
        },
        "id": "_B2_1Pq7OHdy",
        "outputId": "56919ff0-1367-4683-e4a7-48ffbab3b4ad"
      },
      "execution_count": null,
      "outputs": [
        {
          "output_type": "stream",
          "name": "stdout",
          "text": [
            "36\n"
          ]
        },
        {
          "output_type": "error",
          "ename": "ValueError",
          "evalue": "ignored",
          "traceback": [
            "\u001b[0;31m---------------------------------------------------------------------------\u001b[0m",
            "\u001b[0;31mValueError\u001b[0m                                Traceback (most recent call last)",
            "\u001b[0;32m<ipython-input-112-546174eaae72>\u001b[0m in \u001b[0;36m<cell line: 2>\u001b[0;34m()\u001b[0m\n\u001b[1;32m      1\u001b[0m \u001b[0mnasa_shuttles_url\u001b[0m \u001b[0;34m=\u001b[0m \u001b[0;34m\"https://www.lroc.asu.edu/featured_sites/\"\u001b[0m\u001b[0;34m\u001b[0m\u001b[0;34m\u001b[0m\u001b[0m\n\u001b[0;32m----> 2\u001b[0;31m \u001b[0mnasa_data\u001b[0m \u001b[0;34m=\u001b[0m \u001b[0mget_data\u001b[0m\u001b[0;34m(\u001b[0m\u001b[0mnasa_shuttles_url\u001b[0m\u001b[0;34m,\u001b[0m\u001b[0mpath\u001b[0m\u001b[0;34m)\u001b[0m\u001b[0;34m\u001b[0m\u001b[0;34m\u001b[0m\u001b[0m\n\u001b[0m",
            "\u001b[0;32m<ipython-input-111-d584838868e1>\u001b[0m in \u001b[0;36mget_data\u001b[0;34m(url, path)\u001b[0m\n\u001b[1;32m     34\u001b[0m \u001b[0;34m\u001b[0m\u001b[0m\n\u001b[1;32m     35\u001b[0m \u001b[0;34m\u001b[0m\u001b[0m\n\u001b[0;32m---> 36\u001b[0;31m   \u001b[0mdf\u001b[0m \u001b[0;34m=\u001b[0m \u001b[0mpd\u001b[0m\u001b[0;34m.\u001b[0m\u001b[0mDataFrame\u001b[0m\u001b[0;34m(\u001b[0m\u001b[0mshuttles\u001b[0m\u001b[0;34m)\u001b[0m\u001b[0;34m\u001b[0m\u001b[0;34m\u001b[0m\u001b[0m\n\u001b[0m\u001b[1;32m     37\u001b[0m   \u001b[0;31m# url_parts = url.split(\"/\")\u001b[0m\u001b[0;34m\u001b[0m\u001b[0;34m\u001b[0m\u001b[0m\n\u001b[1;32m     38\u001b[0m   \u001b[0;31m# file_name = path + \"/results_\" + url_parts[3] + \".csv\"\u001b[0m\u001b[0;34m\u001b[0m\u001b[0;34m\u001b[0m\u001b[0m\n",
            "\u001b[0;32m/usr/local/lib/python3.10/dist-packages/pandas/core/frame.py\u001b[0m in \u001b[0;36m__init__\u001b[0;34m(self, data, index, columns, dtype, copy)\u001b[0m\n\u001b[1;32m    779\u001b[0m         \u001b[0;32melse\u001b[0m\u001b[0;34m:\u001b[0m\u001b[0;34m\u001b[0m\u001b[0;34m\u001b[0m\u001b[0m\n\u001b[1;32m    780\u001b[0m             \u001b[0;32mif\u001b[0m \u001b[0mindex\u001b[0m \u001b[0;32mis\u001b[0m \u001b[0;32mNone\u001b[0m \u001b[0;32mor\u001b[0m \u001b[0mcolumns\u001b[0m \u001b[0;32mis\u001b[0m \u001b[0;32mNone\u001b[0m\u001b[0;34m:\u001b[0m\u001b[0;34m\u001b[0m\u001b[0;34m\u001b[0m\u001b[0m\n\u001b[0;32m--> 781\u001b[0;31m                 \u001b[0;32mraise\u001b[0m \u001b[0mValueError\u001b[0m\u001b[0;34m(\u001b[0m\u001b[0;34m\"DataFrame constructor not properly called!\"\u001b[0m\u001b[0;34m)\u001b[0m\u001b[0;34m\u001b[0m\u001b[0;34m\u001b[0m\u001b[0m\n\u001b[0m\u001b[1;32m    782\u001b[0m \u001b[0;34m\u001b[0m\u001b[0m\n\u001b[1;32m    783\u001b[0m             \u001b[0mindex\u001b[0m \u001b[0;34m=\u001b[0m \u001b[0mensure_index\u001b[0m\u001b[0;34m(\u001b[0m\u001b[0mindex\u001b[0m\u001b[0;34m)\u001b[0m\u001b[0;34m\u001b[0m\u001b[0;34m\u001b[0m\u001b[0m\n",
            "\u001b[0;31mValueError\u001b[0m: DataFrame constructor not properly called!"
          ]
        }
      ]
    },
    {
      "cell_type": "code",
      "source": [
        "\n",
        "print(nasa_data)"
      ],
      "metadata": {
        "colab": {
          "base_uri": "https://localhost:8080/"
        },
        "id": "08ei8z7OO5Fg",
        "outputId": "4911460c-3383-45dd-fb6c-291dba48f45c"
      },
      "execution_count": null,
      "outputs": [
        {
          "output_type": "stream",
          "name": "stdout",
          "text": [
            "                      Name                                          Longitude  \\\n",
            "0                  GRAIL A  \\n                  Longitude: 333.41° \\n     ...   \n",
            "1                  GRAIL B  \\n                  Longitude: 333.17° \\n     ...   \n",
            "2                    LADEE  \\n                  Longitude: 266.75° \\n     ...   \n",
            "3   Chang'e 3 Landing Site  \\n                  Longitude: 340.49° \\n     ...   \n",
            "4   Chang'e 4 Landing Site  \\n                  Longitude: 177.59° \\n     ...   \n",
            "5      17 March 2013 Event  \\n                  Longitude: 335.67° \\n     ...   \n",
            "6           New Crater 260  \\n                  Longitude: 319.50° \\n     ...   \n",
            "7           New Crater 278  \\n                  Longitude: 125.41° \\n     ...   \n",
            "8           New Crater 572  \\n                  Longitude: 30.54° \\n      ...   \n",
            "9                Apollo 11  \\n                  Longitude: 23.47° \\n      ...   \n",
            "10               Apollo 12  \\n                  Longitude: 336.58° \\n     ...   \n",
            "11               Apollo 14  \\n                  Longitude: 342.53° \\n     ...   \n",
            "12               Apollo 15  \\n                  Longitude: 3.63° \\n       ...   \n",
            "13               Apollo 16  \\n                  Longitude: 15.50° \\n      ...   \n",
            "14               Apollo 17  \\n                  Longitude: 30.77° \\n      ...   \n",
            "15         Apollo 13 S-IVB  \\n                  Longitude: 332.11° \\n     ...   \n",
            "16         Apollo 14 S-IVB  \\n                  Longitude: 333.97° \\n     ...   \n",
            "17         Apollo 15 S-IVB  \\n                  Longitude: 348.18° \\n     ...   \n",
            "18         Apollo 17 S-IVB  \\n                  Longitude: 347.67° \\n     ...   \n",
            "19              Surveyor 1  \\n                  Longitude: 316.66° \\n     ...   \n",
            "20              Surveyor 3  \\n                  Longitude: 336.58° \\n     ...   \n",
            "21              Surveyor 5  \\n                  Longitude: 23.19° \\n      ...   \n",
            "22              Surveyor 6  \\n                  Longitude: 358.57° \\n     ...   \n",
            "23              Surveyor 7  \\n                  Longitude: 348.49° \\n     ...   \n",
            "24                Ranger 6  \\n                  Longitude: 21.48° \\n      ...   \n",
            "25                Ranger 7  \\n                  Longitude: 339.32° \\n     ...   \n",
            "26                Ranger 8  \\n                  Longitude: 24.79° \\n      ...   \n",
            "27                Ranger 9  \\n                  Longitude: 357.61° \\n     ...   \n",
            "28                 Luna 16  \\n                  Longitude: 56.36° \\n      ...   \n",
            "29                 Luna 17  \\n                  Longitude: 325.00° \\n     ...   \n",
            "30                 Luna 20  \\n                  Longitude: 56.62° \\n      ...   \n",
            "31                 Luna 21  \\n                  Longitude: 30.41° \\n      ...   \n",
            "32                 Luna 23  \\n                  Longitude: 62.15° \\n      ...   \n",
            "33                 Luna 24  \\n                  Longitude: 62.21° \\n      ...   \n",
            "34              Lunokhod 1  \\n                  Longitude: 324.99° \\n     ...   \n",
            "35              Lunokhod 2  \\n                  Longitude: 30.92° \\n      ...   \n",
            "\n",
            "          Country                                        Description  \n",
            "0   United States  The GRAIL-A spacecraft (Gravity Recovery and I...  \n",
            "1   United States  The GRAIL-B spacecraft (Gravity Recovery and I...  \n",
            "2   United States  The Lunar Atmosphere and Dust Environment Expl...  \n",
            "3           China  Chang'e 3 launched on 1 December 2013 and succ...  \n",
            "4           China  Chang'e 4 launched on 7 December 2018 and succ...  \n",
            "5   Natural Event  \\nA team of Marshall Space Flight Center scien...  \n",
            "6   Natural Event  The impact that created New Crater 260 occurre...  \n",
            "7   Natural Event  The impact that created New Crater 278 occurre...  \n",
            "8   Natural Event  The impact that created New Crater 572 occurre...  \n",
            "9   United States  Astronauts Neil Armstrong and \"Buzz\" Aldrin la...  \n",
            "10  United States  Astronauts Pete Conrad and Alan Bean landed th...  \n",
            "11  United States  Astronauts Alan Shepard and Ed Mitchell landed...  \n",
            "12  United States  Astronauts David Scott and James Irwin landed ...  \n",
            "13  United States  Astronauts John Young and Charles Duke landed ...  \n",
            "14  United States  Astronauts Eugene Cernan and Harrison Schmitt ...  \n",
            "15  United States  The third stage of the Apollo 13 Saturn V laun...  \n",
            "16  United States  The third stage of the Apollo 14 Saturn V laun...  \n",
            "17  United States  The third stage of the Apollo 15 Saturn V laun...  \n",
            "18  United States  The third stage of the Apollo 17 Saturn V laun...  \n",
            "19  United States  Surveyor 1 was launched on 30 May 1966 and lan...  \n",
            "20  United States  Surveyor 3 was launched on 17 April 1967 and l...  \n",
            "21  United States  Surveyor 5 was launched on 8 September 1967 an...  \n",
            "22  United States  Surveyor 6 was launched on 7 November 1967 and...  \n",
            "23  United States  Surveyor 7 was launched on 7 January 1968 and ...  \n",
            "24  United States  The Ranger series of missions were designed to...  \n",
            "25  United States  The Ranger series of missions were designed to...  \n",
            "26  United States  The Ranger series of missions were designed to...  \n",
            "27  United States  The Ranger series of missions were designed to...  \n",
            "28   Soviet Union  Luna 16 was launched on 12 September 1970 and ...  \n",
            "29   Soviet Union  Luna 17 was the carrier spacecraft for the Lun...  \n",
            "30   Soviet Union  Luna 20 was a successful automated sample retu...  \n",
            "31   Soviet Union  Luna 21 was the carrier spacecraft for the Lun...  \n",
            "32   Soviet Union  Luna 23 was an attempted automated sample retu...  \n",
            "33   Soviet Union  Luna 24 was a successful automated sample retu...  \n",
            "34   Soviet Union  Lunokhod 1 was launched aboard the Luna 17 spa...  \n",
            "35   Soviet Union  Lunokhod 2 was launched aboard the Luna 21 spa...  \n"
          ]
        }
      ]
    },
    {
      "cell_type": "code",
      "source": [],
      "metadata": {
        "id": "NejCA891QIZv"
      },
      "execution_count": null,
      "outputs": []
    }
  ]
}