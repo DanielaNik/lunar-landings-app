{
  "cells": [
    {
      "cell_type": "markdown",
      "metadata": {
        "colab_type": "text",
        "id": "view-in-github"
      },
      "source": [
        "<a href=\"https://colab.research.google.com/github/DanielaNik/lunar-landings-app/blob/master/NASA.ipynb\" target=\"_parent\"><img src=\"https://colab.research.google.com/assets/colab-badge.svg\" alt=\"Open In Colab\"/></a>"
      ]
    },
    {
      "cell_type": "code",
      "execution_count": 1,
      "metadata": {
        "id": "NStiv0-aADoq"
      },
      "outputs": [],
      "source": [
        "#start here\n",
        "#shift+enter in this box will run the code that's here and open a new code-box below\n",
        "#import ....\n",
        "\n",
        "#Note: Imports for the modules that we need\n",
        "import numpy as np\n",
        "import pandas as pd\n",
        "\n",
        "#Note: Requests is a simple, yet elegant, HTTP library.\n",
        "#Resource: https://pypi.org/project/requests/\n",
        "import requests\n",
        "\n",
        "#Note: Beautiful Soup is a library that makes it easy to scrape information from web pages.\n",
        "#Note: In the following resource you can find a way to select any part of a HTML content.\n",
        "#Resource: https://pypi.org/project/beautifulsoup4/\n",
        "from bs4 import BeautifulSoup\n",
        "\n",
        "#Note: IPython is a command shell for interactive computing in Python.\n",
        "#Note: IPython.display is a module for display tools in IPython.\n",
        "#Resource: https://ipython.readthedocs.io/en/stable/api/generated/IPython.display.html\n",
        "from IPython.display import HTML\n",
        "\n",
        "\n",
        "#Note: We can disable warnings for our requests.\n",
        "import warnings\n",
        "\n",
        "requests.packages.urllib3.disable_warnings()\n",
        "warnings.filterwarnings(\"ignore\")\n",
        "\n",
        "import re\n",
        "import json"
      ]
    },
    {
      "cell_type": "code",
      "execution_count": 2,
      "metadata": {
        "id": "GkmViAPYAMAN"
      },
      "outputs": [],
      "source": [
        "#Web Scarping from NASA\n",
        "\n",
        "scraping_url = 'https://www.lroc.asu.edu/featured_sites/'"
      ]
    },
    {
      "cell_type": "code",
      "execution_count": 3,
      "metadata": {
        "colab": {
          "base_uri": "https://localhost:8080/"
        },
        "id": "YHONmBpQAzID",
        "outputId": "c3173086-05f1-48bc-d413-19bd277dc9bc"
      },
      "outputs": [
        {
          "data": {
            "text/plain": [
              "<Response [200]>"
            ]
          },
          "execution_count": 3,
          "metadata": {},
          "output_type": "execute_result"
        }
      ],
      "source": [
        "#Response from site\n",
        "response = requests.get(scraping_url)\n",
        "response"
      ]
    },
    {
      "cell_type": "code",
      "execution_count": 4,
      "metadata": {
        "colab": {
          "base_uri": "https://localhost:8080/"
        },
        "id": "btsdHMKkA4Mj",
        "outputId": "8939d9ca-f874-455b-a9b1-91aaf32c2798"
      },
      "outputs": [
        {
          "data": {
            "text/plain": [
              "bs4.BeautifulSoup"
            ]
          },
          "execution_count": 4,
          "metadata": {},
          "output_type": "execute_result"
        }
      ],
      "source": [
        "#Parsing with BeautifulSoup\n",
        "\n",
        "raw_html = response.text\n",
        "html = BeautifulSoup(raw_html, \"html.parser\")\n",
        "type(html)"
      ]
    },
    {
      "cell_type": "code",
      "execution_count": 5,
      "metadata": {
        "colab": {
          "base_uri": "https://localhost:8080/"
        },
        "id": "DrA7sFfQBBsO",
        "outputId": "d5aaee6b-868b-4552-cc5c-8c1d876da35b"
      },
      "outputs": [
        {
          "name": "stdout",
          "output_type": "stream",
          "text": [
            "Mounted at /content/drive\n"
          ]
        }
      ],
      "source": [
        "#Save in Drive\n",
        "\n",
        "from google.colab import drive\n",
        "\n",
        "drive.mount('/content/drive')\n",
        "path = \"/content/drive/MyDrive/OpenData-Project\""
      ]
    },
    {
      "cell_type": "code",
      "execution_count": 14,
      "metadata": {
        "colab": {
          "base_uri": "https://localhost:8080/",
          "height": 35
        },
        "id": "qL_lRGpOEicU",
        "outputId": "41912195-85a6-4213-8c49-82ed88ce18cc"
      },
      "outputs": [
        {
          "data": {
            "application/vnd.google.colaboratory.intrinsic+json": {
              "type": "string"
            },
            "text/plain": [
              "'GRAIL A'"
            ]
          },
          "execution_count": 14,
          "metadata": {},
          "output_type": "execute_result"
        }
      ],
      "source": [
        "html.select_one('.modal-header > h4').text"
      ]
    },
    {
      "cell_type": "code",
      "execution_count": 23,
      "metadata": {
        "id": "M9VzojMzBEAs"
      },
      "outputs": [],
      "source": [
        "def get_data(url, path):\n",
        "  response = requests.get(url)\n",
        "  html = BeautifulSoup(response.text, \"html.parser\")\n",
        "\n",
        "  shuttle_items = html.find_all('div', class_='modal-content')\n",
        "  lon_items = html.select('.lat-lon')\n",
        "\n",
        "  shuttles = []\n",
        "\n",
        "  for i in range(0, len(shuttle_items)):\n",
        "    item = {}\n",
        "\n",
        "    shuttle_name = shuttle_items[i].select_one('.modal-header > h4').text.replace('\\n','')\n",
        "    item['Name'] = shuttle_name\n",
        "\n",
        "    coordinates_text = lon_items[i].text.replace('\\n','')\n",
        "    coordinates_parts = coordinates_text.split()\n",
        "        \n",
        "    item['Latitude'] = coordinates_parts[1]\n",
        "    item['Longitude'] = coordinates_parts[3]\n",
        "    item['Elevation'] = coordinates_parts[5]\n",
        "\n",
        "    shuttle_country = shuttle_items[i].select_one('.modal-body > p:nth-child(1)').text.replace('\\n','')\n",
        "    item['Country'] = shuttle_country\n",
        "\n",
        "    shuttle_description= shuttle_items[i].select_one('.modal-body > p:nth-child(2)').text.replace('\\n','')\n",
        "    item['Description'] = shuttle_description\n",
        "\n",
        "    shuttles.append(item)\n",
        "\n",
        "\n",
        "  df = pd.DataFrame(shuttles)\n",
        "  df['Latitude'] = df['Latitude'].str.replace('°', '')\n",
        "  df['Longitude'] = df['Longitude'].str.replace('°', '')\n",
        "  url_parts = url.split(\"/\")\n",
        "  file_name = path + \"/results_\" + url_parts[3] + \".csv\"\n",
        "  df.to_csv(file_name, index=False)\n",
        "\n",
        "  return df"
      ]
    },
    {
      "cell_type": "code",
      "execution_count": 24,
      "metadata": {
        "id": "_B2_1Pq7OHdy"
      },
      "outputs": [],
      "source": [
        "nasa_shuttles_url = \"https://www.lroc.asu.edu/featured_sites/\"\n",
        "nasa_data = get_data(nasa_shuttles_url,path)"
      ]
    },
    {
      "cell_type": "code",
      "execution_count": 25,
      "metadata": {
        "colab": {
          "base_uri": "https://localhost:8080/"
        },
        "id": "08ei8z7OO5Fg",
        "outputId": "6fadc1c6-b027-474a-a706-cd6d1b3337f3"
      },
      "outputs": [
        {
          "name": "stdout",
          "output_type": "stream",
          "text": [
            "                      Name                                        Coordinates  \\\n",
            "0                  GRAIL A                    Longitude: 333.41°          ...   \n",
            "1                  GRAIL B                    Longitude: 333.17°          ...   \n",
            "2                    LADEE                    Longitude: 266.75°          ...   \n",
            "3   Chang'e 3 Landing Site                    Longitude: 340.49°          ...   \n",
            "4   Chang'e 4 Landing Site                    Longitude: 177.59°          ...   \n",
            "5      17 March 2013 Event                    Longitude: 335.67°          ...   \n",
            "6           New Crater 260                    Longitude: 319.50°          ...   \n",
            "7           New Crater 278                    Longitude: 125.41°          ...   \n",
            "8           New Crater 572                    Longitude: 30.54°           ...   \n",
            "9                Apollo 11                    Longitude: 23.47°           ...   \n",
            "10               Apollo 12                    Longitude: 336.58°          ...   \n",
            "11               Apollo 14                    Longitude: 342.53°          ...   \n",
            "12               Apollo 15                    Longitude: 3.63°            ...   \n",
            "13               Apollo 16                    Longitude: 15.50°           ...   \n",
            "14               Apollo 17                    Longitude: 30.77°           ...   \n",
            "15         Apollo 13 S-IVB                    Longitude: 332.11°          ...   \n",
            "16         Apollo 14 S-IVB                    Longitude: 333.97°          ...   \n",
            "17         Apollo 15 S-IVB                    Longitude: 348.18°          ...   \n",
            "18         Apollo 17 S-IVB                    Longitude: 347.67°          ...   \n",
            "19              Surveyor 1                    Longitude: 316.66°          ...   \n",
            "20              Surveyor 3                    Longitude: 336.58°          ...   \n",
            "21              Surveyor 5                    Longitude: 23.19°           ...   \n",
            "22              Surveyor 6                    Longitude: 358.57°          ...   \n",
            "23              Surveyor 7                    Longitude: 348.49°          ...   \n",
            "24                Ranger 6                    Longitude: 21.48°           ...   \n",
            "25                Ranger 7                    Longitude: 339.32°          ...   \n",
            "26                Ranger 8                    Longitude: 24.79°           ...   \n",
            "27                Ranger 9                    Longitude: 357.61°          ...   \n",
            "28                 Luna 16                    Longitude: 56.36°           ...   \n",
            "29                 Luna 17                    Longitude: 325.00°          ...   \n",
            "30                 Luna 20                    Longitude: 56.62°           ...   \n",
            "31                 Luna 21                    Longitude: 30.41°           ...   \n",
            "32                 Luna 23                    Longitude: 62.15°           ...   \n",
            "33                 Luna 24                    Longitude: 62.21°           ...   \n",
            "34              Lunokhod 1                    Longitude: 324.99°          ...   \n",
            "35              Lunokhod 2                    Longitude: 30.92°           ...   \n",
            "\n",
            "          Country                                        Description  \n",
            "0   United States  The GRAIL-A spacecraft (Gravity Recovery and I...  \n",
            "1   United States  The GRAIL-B spacecraft (Gravity Recovery and I...  \n",
            "2   United States  The Lunar Atmosphere and Dust Environment Expl...  \n",
            "3           China  Chang'e 3 launched on 1 December 2013 and succ...  \n",
            "4           China  Chang'e 4 launched on 7 December 2018 and succ...  \n",
            "5   Natural Event  A team of Marshall Space Flight Center scienti...  \n",
            "6   Natural Event  The impact that created New Crater 260 occurre...  \n",
            "7   Natural Event  The impact that created New Crater 278 occurre...  \n",
            "8   Natural Event  The impact that created New Crater 572 occurre...  \n",
            "9   United States  Astronauts Neil Armstrong and \"Buzz\" Aldrin la...  \n",
            "10  United States  Astronauts Pete Conrad and Alan Bean landed th...  \n",
            "11  United States  Astronauts Alan Shepard and Ed Mitchell landed...  \n",
            "12  United States  Astronauts David Scott and James Irwin landed ...  \n",
            "13  United States  Astronauts John Young and Charles Duke landed ...  \n",
            "14  United States  Astronauts Eugene Cernan and Harrison Schmitt ...  \n",
            "15  United States  The third stage of the Apollo 13 Saturn V laun...  \n",
            "16  United States  The third stage of the Apollo 14 Saturn V laun...  \n",
            "17  United States  The third stage of the Apollo 15 Saturn V laun...  \n",
            "18  United States  The third stage of the Apollo 17 Saturn V laun...  \n",
            "19  United States  Surveyor 1 was launched on 30 May 1966 and lan...  \n",
            "20  United States  Surveyor 3 was launched on 17 April 1967 and l...  \n",
            "21  United States  Surveyor 5 was launched on 8 September 1967 an...  \n",
            "22  United States  Surveyor 6 was launched on 7 November 1967 and...  \n",
            "23  United States  Surveyor 7 was launched on 7 January 1968 and ...  \n",
            "24  United States  The Ranger series of missions were designed to...  \n",
            "25  United States  The Ranger series of missions were designed to...  \n",
            "26  United States  The Ranger series of missions were designed to...  \n",
            "27  United States  The Ranger series of missions were designed to...  \n",
            "28   Soviet Union  Luna 16 was launched on 12 September 1970 and ...  \n",
            "29   Soviet Union  Luna 17 was the carrier spacecraft for the Lun...  \n",
            "30   Soviet Union  Luna 20 was a successful automated sample retu...  \n",
            "31   Soviet Union  Luna 21 was the carrier spacecraft for the Lun...  \n",
            "32   Soviet Union  Luna 23 was an attempted automated sample retu...  \n",
            "33   Soviet Union  Luna 24 was a successful automated sample retu...  \n",
            "34   Soviet Union  Lunokhod 1 was launched aboard the Luna 17 spa...  \n",
            "35   Soviet Union  Lunokhod 2 was launched aboard the Luna 21 spa...  \n"
          ]
        }
      ],
      "source": [
        "\n",
        "print(nasa_data)"
      ]
    },
    {
      "cell_type": "code",
      "execution_count": null,
      "metadata": {
        "id": "NejCA891QIZv"
      },
      "outputs": [],
      "source": []
    }
  ],
  "metadata": {
    "colab": {
      "authorship_tag": "ABX9TyPDQOTM+0aCrANcpLbq0RiY",
      "include_colab_link": true,
      "provenance": []
    },
    "kernelspec": {
      "display_name": "Python 3",
      "name": "python3"
    },
    "language_info": {
      "name": "python"
    }
  },
  "nbformat": 4,
  "nbformat_minor": 0
}
